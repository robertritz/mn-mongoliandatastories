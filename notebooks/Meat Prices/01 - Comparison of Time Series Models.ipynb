{
 "cells": [
  {
   "cell_type": "markdown",
   "id": "differential-albania",
   "metadata": {},
   "source": [
    "# Comparison of Time Series Models"
   ]
  },
  {
   "cell_type": "code",
   "execution_count": 1,
   "id": "capable-planet",
   "metadata": {},
   "outputs": [],
   "source": [
    "import pandas as pd\n",
    "import numpy as np"
   ]
  },
  {
   "cell_type": "code",
   "execution_count": 2,
   "id": "progressive-collaboration",
   "metadata": {},
   "outputs": [],
   "source": [
    "import matplotlib.pyplot as plt"
   ]
  },
  {
   "cell_type": "code",
   "execution_count": 3,
   "id": "amino-diamond",
   "metadata": {},
   "outputs": [],
   "source": [
    "from sklearn.metrics import mean_squared_error"
   ]
  },
  {
   "cell_type": "code",
   "execution_count": 5,
   "id": "freelance-covering",
   "metadata": {},
   "outputs": [
    {
     "name": "stderr",
     "output_type": "stream",
     "text": [
      "Importing plotly failed. Interactive plots will not work.\n"
     ]
    }
   ],
   "source": [
    "from fbprophet import Prophet"
   ]
  },
  {
   "cell_type": "code",
   "execution_count": 6,
   "id": "north-calvin",
   "metadata": {},
   "outputs": [],
   "source": [
    "import pmdarima as pm"
   ]
  },
  {
   "cell_type": "markdown",
   "id": "eastern-bottle",
   "metadata": {},
   "source": [
    "## Data Import and Cleaning"
   ]
  },
  {
   "cell_type": "code",
   "execution_count": 7,
   "id": "established-abuse",
   "metadata": {},
   "outputs": [],
   "source": [
    "df = pd.read_csv('data/DT_NSO_0600_019V1_-_2021-04-10_-_www.1212.mn.csv', thousands=',')"
   ]
  },
  {
   "cell_type": "code",
   "execution_count": 8,
   "id": "crucial-letters",
   "metadata": {},
   "outputs": [
    {
     "data": {
      "text/html": [
       "<div>\n",
       "<style scoped>\n",
       "    .dataframe tbody tr th:only-of-type {\n",
       "        vertical-align: middle;\n",
       "    }\n",
       "\n",
       "    .dataframe tbody tr th {\n",
       "        vertical-align: top;\n",
       "    }\n",
       "\n",
       "    .dataframe thead th {\n",
       "        text-align: right;\n",
       "    }\n",
       "</style>\n",
       "<table border=\"1\" class=\"dataframe\">\n",
       "  <thead>\n",
       "    <tr style=\"text-align: right;\">\n",
       "      <th></th>\n",
       "      <th>Goods and services</th>\n",
       "      <th>Aimag</th>\n",
       "      <th>2010-12</th>\n",
       "      <th>2011-01</th>\n",
       "      <th>2011-02</th>\n",
       "      <th>2011-03</th>\n",
       "      <th>2011-04</th>\n",
       "      <th>2011-05</th>\n",
       "      <th>2011-06</th>\n",
       "      <th>2011-07</th>\n",
       "      <th>...</th>\n",
       "      <th>2020-05</th>\n",
       "      <th>2020-06</th>\n",
       "      <th>2020-07</th>\n",
       "      <th>2020-08</th>\n",
       "      <th>2020-09</th>\n",
       "      <th>2020-10</th>\n",
       "      <th>2020-11</th>\n",
       "      <th>2020-12</th>\n",
       "      <th>2021-01</th>\n",
       "      <th>2021-02</th>\n",
       "    </tr>\n",
       "  </thead>\n",
       "  <tbody>\n",
       "    <tr>\n",
       "      <th>0</th>\n",
       "      <td>Rice, kg</td>\n",
       "      <td>Ulaanbaatar</td>\n",
       "      <td>1770.0</td>\n",
       "      <td>1740.0</td>\n",
       "      <td>1705.0</td>\n",
       "      <td>1705.0</td>\n",
       "      <td>1700.0</td>\n",
       "      <td>1675.0</td>\n",
       "      <td>1670.0</td>\n",
       "      <td>1655.0</td>\n",
       "      <td>...</td>\n",
       "      <td>3633</td>\n",
       "      <td>3618</td>\n",
       "      <td>3626</td>\n",
       "      <td>3578</td>\n",
       "      <td>3569</td>\n",
       "      <td>3649</td>\n",
       "      <td>3668</td>\n",
       "      <td>3663</td>\n",
       "      <td>3669</td>\n",
       "      <td>3671</td>\n",
       "    </tr>\n",
       "    <tr>\n",
       "      <th>1</th>\n",
       "      <td>Bread, sliced, pieces</td>\n",
       "      <td>Ulaanbaatar</td>\n",
       "      <td>634.0</td>\n",
       "      <td>634.0</td>\n",
       "      <td>634.0</td>\n",
       "      <td>634.0</td>\n",
       "      <td>634.0</td>\n",
       "      <td>650.0</td>\n",
       "      <td>650.0</td>\n",
       "      <td>650.0</td>\n",
       "      <td>...</td>\n",
       "      <td>1288</td>\n",
       "      <td>1288</td>\n",
       "      <td>1282</td>\n",
       "      <td>1294</td>\n",
       "      <td>1290</td>\n",
       "      <td>1291</td>\n",
       "      <td>1284</td>\n",
       "      <td>1280</td>\n",
       "      <td>1280</td>\n",
       "      <td>1280</td>\n",
       "    </tr>\n",
       "  </tbody>\n",
       "</table>\n",
       "<p>2 rows × 125 columns</p>\n",
       "</div>"
      ],
      "text/plain": [
       "      Goods and services        Aimag  2010-12  2011-01  2011-02  2011-03  \\\n",
       "0               Rice, kg  Ulaanbaatar   1770.0   1740.0   1705.0   1705.0   \n",
       "1  Bread, sliced, pieces  Ulaanbaatar    634.0    634.0    634.0    634.0   \n",
       "\n",
       "   2011-04  2011-05  2011-06  2011-07  ...  2020-05  2020-06  2020-07  \\\n",
       "0   1700.0   1675.0   1670.0   1655.0  ...     3633     3618     3626   \n",
       "1    634.0    650.0    650.0    650.0  ...     1288     1288     1282   \n",
       "\n",
       "   2020-08  2020-09  2020-10  2020-11  2020-12  2021-01  2021-02  \n",
       "0     3578     3569     3649     3668     3663     3669     3671  \n",
       "1     1294     1290     1291     1284     1280     1280     1280  \n",
       "\n",
       "[2 rows x 125 columns]"
      ]
     },
     "execution_count": 8,
     "metadata": {},
     "output_type": "execute_result"
    }
   ],
   "source": [
    "df.head(2)"
   ]
  },
  {
   "cell_type": "code",
   "execution_count": 9,
   "id": "square-reader",
   "metadata": {},
   "outputs": [],
   "source": [
    "df = pd.melt(df, id_vars=['Goods and services','Aimag'], value_name='price',var_name='month')"
   ]
  },
  {
   "cell_type": "code",
   "execution_count": 10,
   "id": "negative-juice",
   "metadata": {},
   "outputs": [
    {
     "data": {
      "text/plain": [
       "array(['Rice, kg', 'Bread, sliced, pieces',\n",
       "       'Biscuits,150-180 g, imported',\n",
       "       'Flour, first grade, packaged, kg, domestic',\n",
       "       'Flour, second grade, packaged, kg, domestic',\n",
       "       'Millet, plain, kg, imported', 'Beef, with bones, kg',\n",
       "       'Beef, without bones, kg', 'Mutton, with bones, kg',\n",
       "       'Goat meat, with bones, kg', 'Chicken, thigh, kg, imported',\n",
       "       'Horse meat, with bones, kg', 'Milk, cows, plain, litre',\n",
       "       'Milk, packed, carton box ,1 litre, domestic',\n",
       "       'Yogurt, plain, 1 litre',\n",
       "       'Aaruul, dried curdled milk, plain, with sugar, kg',\n",
       "       'Egg, pieces, дотоодын', 'Vegetable oil, 1 litre, imported',\n",
       "       'Mandarin, kg, imported', 'Apples, yellow, kg, imported',\n",
       "       'Dried grapes, kg, imported', 'Cabbage, kg, imported',\n",
       "       'Tomatoes, round, kg, imported', 'Sweet pepper, kg, imported',\n",
       "       'Carrots, kg, imported', 'Onion, kg, imported',\n",
       "       'Garlic, 1 bulb, imported', 'Potato, domestic, kg',\n",
       "       'Sugar, plain, kg, imported',\n",
       "       'Vodka, 0.5 litre, Yrool, APU company',\n",
       "       'Beer, Borgio, 0.5 litre, bottled, ordinary',\n",
       "       'Cigarettes, West, imported, gray, carton box',\n",
       "       'Cigarettes, Ulaanshonkhor, domestic',\n",
       "       'White oil paint, 1 litre, with picture of house, chinese',\n",
       "       'Cement, 1 bag, chinese', 'Fuelwood, one sack', 'Нүүрс, 1 шуудай,',\n",
       "       'Laundry soap, ОК', 'Washing powder, OMO-99 , 400 g',\n",
       "       'Dishwashing Liquid, Fairy, 500 ml', 'Matches, 10 box, ОХУ',\n",
       "       'Motorcycle, cylinder 124 sm 3, framed, chinese',\n",
       "       'Gasoline, A-80, 1 litre', 'Gasoline, A-92, 1 litre',\n",
       "       'Diesel fuel, 1 litre',\n",
       "       'Restaurant food /capital salad, gulyas, tea/',\n",
       "       'Canteen food, /tsuivan, milk tea/', 'Mens haircuts',\n",
       "       'Womens haircuts, simple cuts', 'Soap'], dtype=object)"
      ]
     },
     "execution_count": 10,
     "metadata": {},
     "output_type": "execute_result"
    }
   ],
   "source": [
    "df['Goods and services'].unique()"
   ]
  },
  {
   "cell_type": "code",
   "execution_count": 11,
   "id": "acquired-brisbane",
   "metadata": {},
   "outputs": [],
   "source": [
    "df = df[(df['Goods and services'] == 'Beef, with bones, kg') | (df['Goods and services'] == 'Mutton, with bones, kg')]"
   ]
  },
  {
   "cell_type": "code",
   "execution_count": 12,
   "id": "lined-proceeding",
   "metadata": {},
   "outputs": [],
   "source": [
    "df = df.rename(columns={'Goods and services':'item'}).reset_index(drop=True)"
   ]
  },
  {
   "cell_type": "code",
   "execution_count": 13,
   "id": "magnetic-center",
   "metadata": {},
   "outputs": [],
   "source": [
    "df = df.drop(columns='Aimag')"
   ]
  },
  {
   "cell_type": "code",
   "execution_count": 14,
   "id": "activated-marina",
   "metadata": {},
   "outputs": [
    {
     "data": {
      "text/html": [
       "<div>\n",
       "<style scoped>\n",
       "    .dataframe tbody tr th:only-of-type {\n",
       "        vertical-align: middle;\n",
       "    }\n",
       "\n",
       "    .dataframe tbody tr th {\n",
       "        vertical-align: top;\n",
       "    }\n",
       "\n",
       "    .dataframe thead th {\n",
       "        text-align: right;\n",
       "    }\n",
       "</style>\n",
       "<table border=\"1\" class=\"dataframe\">\n",
       "  <thead>\n",
       "    <tr style=\"text-align: right;\">\n",
       "      <th></th>\n",
       "      <th>item</th>\n",
       "      <th>month</th>\n",
       "      <th>price</th>\n",
       "    </tr>\n",
       "  </thead>\n",
       "  <tbody>\n",
       "    <tr>\n",
       "      <th>0</th>\n",
       "      <td>Beef, with bones, kg</td>\n",
       "      <td>2010-12</td>\n",
       "      <td>4060.0</td>\n",
       "    </tr>\n",
       "    <tr>\n",
       "      <th>1</th>\n",
       "      <td>Mutton, with bones, kg</td>\n",
       "      <td>2010-12</td>\n",
       "      <td>3710.0</td>\n",
       "    </tr>\n",
       "    <tr>\n",
       "      <th>2</th>\n",
       "      <td>Beef, with bones, kg</td>\n",
       "      <td>2011-01</td>\n",
       "      <td>4800.0</td>\n",
       "    </tr>\n",
       "    <tr>\n",
       "      <th>3</th>\n",
       "      <td>Mutton, with bones, kg</td>\n",
       "      <td>2011-01</td>\n",
       "      <td>4205.0</td>\n",
       "    </tr>\n",
       "    <tr>\n",
       "      <th>4</th>\n",
       "      <td>Beef, with bones, kg</td>\n",
       "      <td>2011-02</td>\n",
       "      <td>4800.0</td>\n",
       "    </tr>\n",
       "    <tr>\n",
       "      <th>...</th>\n",
       "      <td>...</td>\n",
       "      <td>...</td>\n",
       "      <td>...</td>\n",
       "    </tr>\n",
       "    <tr>\n",
       "      <th>241</th>\n",
       "      <td>Mutton, with bones, kg</td>\n",
       "      <td>2020-12</td>\n",
       "      <td>8579.0</td>\n",
       "    </tr>\n",
       "    <tr>\n",
       "      <th>242</th>\n",
       "      <td>Beef, with bones, kg</td>\n",
       "      <td>2021-01</td>\n",
       "      <td>11614.0</td>\n",
       "    </tr>\n",
       "    <tr>\n",
       "      <th>243</th>\n",
       "      <td>Mutton, with bones, kg</td>\n",
       "      <td>2021-01</td>\n",
       "      <td>9034.0</td>\n",
       "    </tr>\n",
       "    <tr>\n",
       "      <th>244</th>\n",
       "      <td>Beef, with bones, kg</td>\n",
       "      <td>2021-02</td>\n",
       "      <td>12606.0</td>\n",
       "    </tr>\n",
       "    <tr>\n",
       "      <th>245</th>\n",
       "      <td>Mutton, with bones, kg</td>\n",
       "      <td>2021-02</td>\n",
       "      <td>10459.0</td>\n",
       "    </tr>\n",
       "  </tbody>\n",
       "</table>\n",
       "<p>246 rows × 3 columns</p>\n",
       "</div>"
      ],
      "text/plain": [
       "                       item    month    price\n",
       "0      Beef, with bones, kg  2010-12   4060.0\n",
       "1    Mutton, with bones, kg  2010-12   3710.0\n",
       "2      Beef, with bones, kg  2011-01   4800.0\n",
       "3    Mutton, with bones, kg  2011-01   4205.0\n",
       "4      Beef, with bones, kg  2011-02   4800.0\n",
       "..                      ...      ...      ...\n",
       "241  Mutton, with bones, kg  2020-12   8579.0\n",
       "242    Beef, with bones, kg  2021-01  11614.0\n",
       "243  Mutton, with bones, kg  2021-01   9034.0\n",
       "244    Beef, with bones, kg  2021-02  12606.0\n",
       "245  Mutton, with bones, kg  2021-02  10459.0\n",
       "\n",
       "[246 rows x 3 columns]"
      ]
     },
     "execution_count": 14,
     "metadata": {},
     "output_type": "execute_result"
    }
   ],
   "source": [
    "df"
   ]
  },
  {
   "cell_type": "code",
   "execution_count": 15,
   "id": "congressional-interface",
   "metadata": {},
   "outputs": [],
   "source": [
    "df['month'] = pd.to_datetime(df['month'])"
   ]
  },
  {
   "cell_type": "code",
   "execution_count": 16,
   "id": "elect-winner",
   "metadata": {},
   "outputs": [],
   "source": [
    "beef = df[df['item'] == 'Beef, with bones, kg']\n",
    "mutton = df[df['item'] == 'Mutton, with bones, kg']"
   ]
  },
  {
   "cell_type": "markdown",
   "id": "informative-injection",
   "metadata": {},
   "source": [
    "## Visualize Time Series"
   ]
  },
  {
   "cell_type": "code",
   "execution_count": 17,
   "id": "violent-circuit",
   "metadata": {},
   "outputs": [
    {
     "data": {
      "text/plain": [
       "item             object\n",
       "month    datetime64[ns]\n",
       "price           float64\n",
       "dtype: object"
      ]
     },
     "execution_count": 17,
     "metadata": {},
     "output_type": "execute_result"
    }
   ],
   "source": [
    "mutton.dtypes"
   ]
  },
  {
   "cell_type": "code",
   "execution_count": 18,
   "id": "quiet-angle",
   "metadata": {},
   "outputs": [
    {
     "data": {
      "text/plain": [
       "<matplotlib.legend.Legend at 0x7fab70036790>"
      ]
     },
     "execution_count": 18,
     "metadata": {},
     "output_type": "execute_result"
    },
    {
     "data": {
      "image/png": "[encoded data removed]",
      "text/plain": [
       "<Figure size 432x288 with 1 Axes>"
      ]
     },
     "metadata": {
      "needs_background": "light"
     },
     "output_type": "display_data"
    }
   ],
   "source": [
    "plt.plot(mutton['month'], mutton['price'])\n",
    "plt.plot(beef['month'], beef['price'])\n",
    "plt.legend(['mutton','beef'])"
   ]
  },
  {
   "cell_type": "markdown",
   "id": "disturbed-width",
   "metadata": {},
   "source": [
    "## Split Data"
   ]
  },
  {
   "cell_type": "code",
   "execution_count": 19,
   "id": "duplicate-printing",
   "metadata": {},
   "outputs": [],
   "source": [
    "train_b = beef[:-12]\n",
    "test_b = beef[-12:]"
   ]
  },
  {
   "cell_type": "code",
   "execution_count": 20,
   "id": "static-distribution",
   "metadata": {},
   "outputs": [],
   "source": [
    "train_m = mutton[:-12]\n",
    "test_m = mutton[-12:]"
   ]
  },
  {
   "cell_type": "markdown",
   "id": "logical-district",
   "metadata": {},
   "source": [
    "## Auto ARIMA"
   ]
  },
  {
   "cell_type": "code",
   "execution_count": 21,
   "id": "through-reliance",
   "metadata": {},
   "outputs": [],
   "source": [
    "model_b = pm.auto_arima(train_b[['price']], seasonal=True, m=12)\n",
    "model_m = pm.auto_arima(train_m[['price']], seasonal=True, m=12)"
   ]
  },
  {
   "cell_type": "code",
   "execution_count": null,
   "id": "ambient-lyric",
   "metadata": {},
   "outputs": [],
   "source": [
    "forecast_b = model_b.predict(test_b.shape[0])\n",
    "forecast_m = model_m.predict(test_m.shape[0])"
   ]
  },
  {
   "cell_type": "code",
   "execution_count": null,
   "id": "vanilla-patrol",
   "metadata": {},
   "outputs": [
    {
     "data": {
      "text/plain": [
       "<matplotlib.legend.Legend at 0x7fabb3490520>"
      ]
     },
     "execution_count": 23,
     "metadata": {},
     "output_type": "execute_result"
    },
    {
     "data": {
      "image/png": "[encoded data removed]",
      "text/plain": [
       "<Figure size 432x288 with 1 Axes>"
      ]
     },
     "metadata": {
      "needs_background": "light"
     },
     "output_type": "display_data"
    }
   ],
   "source": [
    "x = np.arange(beef.shape[0])\n",
    "plt.plot(x[:-12], train_b['price'])\n",
    "plt.plot(x[-12:], forecast_b)\n",
    "plt.plot(x[-12:], test_b['price'])\n",
    "plt.title('Forecast Performance - Beef')\n",
    "plt.legend(['Training Data','Forecast','Actual'])"
   ]
  },
  {
   "cell_type": "code",
   "execution_count": null,
   "id": "quarterly-giant",
   "metadata": {},
   "outputs": [
    {
     "data": {
      "text/plain": [
       "<matplotlib.legend.Legend at 0x7faba3247430>"
      ]
     },
     "execution_count": 24,
     "metadata": {},
     "output_type": "execute_result"
    },
    {
     "data": {
      "image/png": "[encoded data removed]",
      "text/plain": [
       "<Figure size 432x288 with 1 Axes>"
      ]
     },
     "metadata": {
      "needs_background": "light"
     },
     "output_type": "display_data"
    }
   ],
   "source": [
    "x = np.arange(mutton.shape[0])\n",
    "plt.plot(x[:-12], train_m['price'])\n",
    "plt.plot(x[-12:], forecast_m)\n",
    "plt.plot(x[-12:], test_m['price'])\n",
    "plt.title('Forecast Performance - Mutton')\n",
    "plt.legend(['Training Data','Forecast','Actual'])"
   ]
  },
  {
   "cell_type": "code",
   "execution_count": null,
   "id": "weighted-scale",
   "metadata": {},
   "outputs": [
    {
     "data": {
      "text/plain": [
       "223     9763.0\n",
       "225     9836.0\n",
       "227    10125.0\n",
       "229    10385.0\n",
       "231    10648.0\n",
       "233     9864.0\n",
       "235     9169.0\n",
       "237     8551.0\n",
       "239     8632.0\n",
       "241     8579.0\n",
       "243     9034.0\n",
       "245    10459.0\n",
       "Name: price, dtype: float64"
      ]
     },
     "execution_count": 25,
     "metadata": {},
     "output_type": "execute_result"
    }
   ],
   "source": [
    "test_m['price']"
   ]
  },
  {
   "cell_type": "code",
   "execution_count": null,
   "id": "increasing-branch",
   "metadata": {},
   "outputs": [
    {
     "name": "stdout",
     "output_type": "stream",
     "text": [
      "Mutton RMSE: 940.7704088034307\n",
      "Beef RMSE: 525.0400757254529\n"
     ]
    }
   ],
   "source": [
    "print('Mutton RMSE:', np.sqrt(mean_squared_error(test_m['price'], forecast_m)))\n",
    "print('Beef RMSE:', np.sqrt(mean_squared_error(test_b['price'], forecast_b)))"
   ]
  },
  {
   "cell_type": "markdown",
   "id": "cloudy-sally",
   "metadata": {},
   "source": [
    "## Prophet"
   ]
  },
  {
   "cell_type": "code",
   "execution_count": null,
   "id": "phantom-perception",
   "metadata": {},
   "outputs": [],
   "source": []
  },
  {
   "cell_type": "code",
   "execution_count": null,
   "id": "norman-liverpool",
   "metadata": {},
   "outputs": [],
   "source": [
    "m = Prophet()\n",
    "m.fit(df)"
   ]
  }
 ],
 "metadata": {
  "kernelspec": {
   "display_name": "Python 3",
   "language": "python",
   "name": "python3"
  },
  "language_info": {
   "codemirror_mode": {
    "name": "ipython",
    "version": 3
   },
   "file_extension": ".py",
   "mimetype": "text/x-python",
   "name": "python",
   "nbconvert_exporter": "python",
   "pygments_lexer": "ipython3",
   "version": "3.8.5"
  }
 },
 "nbformat": 4,
 "nbformat_minor": 5
}
